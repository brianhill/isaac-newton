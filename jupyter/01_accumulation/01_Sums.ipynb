{
 "cells": [
  {
   "cell_type": "markdown",
   "source": [
    "# Chapter 1 &mdash; Accumulation\n",
    "\n",
    "*This notebook is written for someone who knows absolutely no Python. Subsequent\n",
    "notebooks will introduce more Python concepts. This notebook uses three concepts\n",
    "only (lists, ranges, and list comprehensions). It introduces these as examples\n",
    "&mdash; with little explanation. Only after a variety of Python examples have been introduced\n",
    "will it make sense to step back and discuss expressions, assignments, statements,\n",
    "the differences between lists and ranges, mutability and immutability, etc.*\n",
    "\n",
    "Chapter 1 is on accumulation. The modern word for this is integration, but let's use the 17th century term.\n",
    "\n",
    "## Notebook 1.1 &mdash; Sums\n",
    "\n",
    "Accumulation usually amounts to doing sums. Sometimes the sums are of small distances and the sum is interpreted\n",
    "as a total distance. Sometimes the sums are of small areas, and the sum is interpreted as a total area. Sometimes\n",
    "the sums are of small volumes, and the sum is interpreted as a total volume. That's three\n",
    "applications for sums. It is just some motivation for why we are starting a chapter that is supposed\n",
    "to be about accumulating distances, volumes, and areas with a Jupyter notebook on sums.\n",
    "\n",
    "### Section 1.1.1 &mdash; Lists and Ranges\n",
    "\n",
    "We want to sum lists of numbers, like the list [1, 2, 3] whose sum is 6. We are going to do this in Python.\n",
    "In Python, literal lists are enclosed in square brackets and the list elements are separated by commas."
   ],
   "metadata": {
    "collapsed": false,
    "pycharm": {
     "name": "#%% md\n"
    }
   }
  },
  {
   "cell_type": "code",
   "execution_count": 1,
   "metadata": {
    "collapsed": true,
    "pycharm": {
     "name": "#%%\n"
    }
   },
   "outputs": [],
   "source": [
    "short_list = [1, 2, 3]"
   ]
  },
  {
   "cell_type": "markdown",
   "source": [
    "We are going to want to work with longer lists, like the list of numbers from 1 to 10, or the list of numbers from 1 to 100,\n",
    "*without typing in all 10 or all 100 elements individually*. The entire point of using the computer is to let it take\n",
    "care of such tedium. Below is how to make longer lists without literally typing in each element:"
   ],
   "metadata": {
    "collapsed": false,
    "pycharm": {
     "name": "#%% md\n"
    }
   }
  },
  {
   "cell_type": "code",
   "execution_count": 2,
   "outputs": [
    {
     "data": {
      "text/plain": "[0, 1, 2, 3, 4, 5, 6, 7, 8, 9]"
     },
     "execution_count": 2,
     "metadata": {},
     "output_type": "execute_result"
    }
   ],
   "source": [
    "new_list = [number for number in range(10)]\n",
    "new_list"
   ],
   "metadata": {
    "collapsed": false,
    "pycharm": {
     "name": "#%%\n"
    }
   }
  },
  {
   "cell_type": "markdown",
   "source": [
    "Three things about the above: (1) There are many other ways of creating a list. If you know others, ignore them\n",
    "for now. I have chosen to use the range function and list comprehension because\n",
    "it is compact and clear, and it works for all the problems we want to solve in this notebook.\n",
    "(2) The first line above assigns the newly created list to `new_list`. The second line is present\n",
    "just to cause `new_list` to appear in the Jupyter notebook output. (3) Thirdly, and most importantly,\n",
    "we did not get quite what we wanted. We got the list [0, 1, 2, 3, 4, 5, 6, 7, 8, 9]\n",
    "instead of the list [1, 2, 3, 4, 5, 6, 7, 8, 9, 10].\n",
    "\n",
    "We didn't get what we wanted because computers, at a deep level, do the very sensible\n",
    "thing of counting from zero instead of from one. Humans sometimes follow the convention of counting from zero.\n",
    "For example, a baby is zero years old when it is born, and does not become one year old until 12 months have\n",
    "passed. However, in most situations, humans count from 1. Because of the differing\n",
    "conventions, you will often find that a computer doesn't do what you\n",
    "expect until you get used to the way it counts.\n",
    "\n",
    "A way to get the list we wanted, is to change range(10) expression to range(1, 11).\n",
    "Then the list will start with 1 and finish with 10 (feel free to try it!).\n",
    "However, we can make our intention clearer by defining a variable N to be 10."
   ],
   "metadata": {
    "collapsed": false
   }
  },
  {
   "cell_type": "code",
   "execution_count": 3,
   "outputs": [
    {
     "data": {
      "text/plain": "[1, 2, 3, 4, 5, 6, 7, 8, 9, 10]"
     },
     "execution_count": 3,
     "metadata": {},
     "output_type": "execute_result"
    }
   ],
   "source": [
    "N = 10\n",
    "long_list = [number for number in range(1, N + 1)]\n",
    "long_list"
   ],
   "metadata": {
    "collapsed": false,
    "pycharm": {
     "name": "#%%\n"
    }
   }
  },
  {
   "cell_type": "markdown",
   "source": [
    "By defining N and then writing `1` and `N + 1` as the first and second\n",
    "arguments to the range function, we have made it very explicit that we want the\n",
    "range function to start with `1` and stop at `N`.\n",
    "The range function always stops without including its upper limit.\n",
    "\n",
    "Finish the code below to make a really long list that goes from\n",
    "1 to 100. When finishing the code, use the variable `M` that I defined. Don't\n",
    "hard-code 101."
   ],
   "metadata": {
    "collapsed": false,
    "pycharm": {
     "name": "#%% md\n"
    }
   }
  },
  {
   "cell_type": "code",
   "execution_count": 4,
   "outputs": [],
   "source": [
    "M = 100\n",
    "really_long_list = []  # <--- you finish this"
   ],
   "metadata": {
    "collapsed": false,
    "pycharm": {
     "name": "#%%\n"
    }
   }
  },
  {
   "cell_type": "markdown",
   "source": [
    "### Section 1.1.2 &mdash; Sums of Lists\n",
    "\n",
    "Summing a list is easy to do in Python. There is a function for it."
   ],
   "metadata": {
    "collapsed": false,
    "pycharm": {
     "name": "#%% md\n"
    }
   }
  },
  {
   "cell_type": "code",
   "execution_count": 5,
   "outputs": [
    {
     "data": {
      "text/plain": "6"
     },
     "execution_count": 5,
     "metadata": {},
     "output_type": "execute_result"
    }
   ],
   "source": [
    "should_get_6 = sum(short_list)\n",
    "should_get_6"
   ],
   "metadata": {
    "collapsed": false,
    "pycharm": {
     "name": "#%%\n"
    }
   }
  },
  {
   "cell_type": "markdown",
   "source": [
    "Now that you see how it is done, you write the code to sum long_list:"
   ],
   "metadata": {
    "collapsed": false,
    "pycharm": {
     "name": "#%% md\n"
    }
   }
  },
  {
   "cell_type": "code",
   "execution_count": 6,
   "outputs": [
    {
     "data": {
      "text/plain": "0"
     },
     "execution_count": 6,
     "metadata": {},
     "output_type": "execute_result"
    }
   ],
   "source": [
    "should_get_55 = 0  # <--- you fix this to sum long_list\n",
    "should_get_55"
   ],
   "metadata": {
    "collapsed": false,
    "pycharm": {
     "name": "#%%\n"
    }
   }
  },
  {
   "cell_type": "markdown",
   "source": [
    "The sum of really_long_list is ${100 \\cdot 101 \\over 2}=5050$ and we\n",
    "can let Python check this for us:"
   ],
   "metadata": {
    "collapsed": false,
    "pycharm": {
     "name": "#%% md\n"
    }
   }
  },
  {
   "cell_type": "code",
   "execution_count": 7,
   "outputs": [
    {
     "data": {
      "text/plain": "0"
     },
     "execution_count": 7,
     "metadata": {},
     "output_type": "execute_result"
    }
   ],
   "source": [
    "should_get_5050 = sum(really_long_list)\n",
    "should_get_5050"
   ],
   "metadata": {
    "collapsed": false,
    "pycharm": {
     "name": "#%%\n"
    }
   }
  },
  {
   "cell_type": "markdown",
   "source": [
    "### Section 1.1.3 &mdash; Formulae for the Sums of the Integers, their Squares, and their Cubes\n",
    "\n",
    "#### Sums of the Integers\n",
    "\n",
    "How did I know we would get 55 and 5050? I did not add the numbers up. Instead,\n",
    "I plugged in $n=10$ and $n=100$ into this formula:\n",
    "\n",
    "$1 + 2 + 3 + \\cdots + n = {n(n+1)\\over 2}$\n",
    "\n",
    "The formula for the sum of the integers was known to Pythagoras (c. 570 to 500 BCE) and his followers.\n",
    "\n",
    "The successive sums, 1, 3, 6, 10, etc., are known as the triangular numbers and\n",
    "there are various graphical proofs that get the formula, $n(n+1)\\over2$, and also\n",
    "illustrate why these numbers are \"triangular.\" Here is a proof without words of the formula:\n",
    "\n",
    "![Proof without words 1](https://brianhill.github.io/isaac-newton/jupyter/01_accumulation/resources/proofs_without_words_1.png)\n",
    "\n",
    "This makes the formula pleasantly obvious. The sum is half of a square of side $n$ plus\n",
    "missing part of all the squares that are cut in half along the diagonal.\n",
    "\n",
    "#### Sums of the Squares\n",
    "\n",
    "We are just getting going. It is very handy to know the formula for the sum of integers raised to\n",
    "the $k\\text{th}$ power.\n",
    "\n",
    "$1^k + 2^k + 3^k + \\cdots + n^k$\n",
    "\n",
    "In his text *On Spirals*, Archimedes (287-212 BCE) derived:\n",
    "\n",
    "$1^2 + 2^2 + 3^2 + ... + n^2 = {n(n+1)(2n+1)\\over 6}$\n",
    "\n",
    "Here is a proof without words of Archimedes' formula:\n",
    "\n",
    "![Proof without words 2](https://brianhill.github.io/isaac-newton/jupyter/01_accumulation/resources/proofs_without_words_2.png)\n",
    "\n",
    "The proof without words of the sum of the integers was quite straightforward. I\n",
    "admit that it is not obvious to me what this proof without words demonstrates.\n",
    "Two more proofs without words below (for the cubes and the quartics) are even\n",
    "less obvious.\n",
    "\n",
    "#### Sums of the Cubes\n",
    "\n",
    "Abu Bakr al-Karaji (953-*c*.1029) discovered the formula for the cubes:\n",
    "\n",
    "$1^3 + 2^3 + 3^3 + ... + n^3 = \\bigl({n(n+1)\\over2}\\bigr)^2$\n",
    "\n",
    "Here is a proof without words of al-Karaji's formula:\n",
    "\n",
    "![Proof without words 3](https://brianhill.github.io/isaac-newton/jupyter/01_accumulation/resources/proofs_without_words_3.png)\n",
    "\n",
    "### Section 1.1.4 &mdash; A Recursive Strategy for Sums of Powers of Integers\n",
    "\n",
    "Ibn al-Haytham (965-1039) came up with a recursive strategy for calculating\n",
    "\n",
    "$1^k + 2^k + 3^k + ... + n^k$\n",
    "\n",
    "Let's give the sum we are after a name: $S_k(n)$. The recursive strategy is that we are\n",
    "going to get $S_{k+1}(n)$ in terms of $S_k(m)$ with $m<=n$. The strategy begins straightforwardly\n",
    "by first writing:\n",
    "\n",
    "$S_{k+1}(n)=1^{k+1} + 2^{k+1} + 3^{k+1} + ... + n^{k+1} = 1\\cdot1^k + 2\\cdot2^k + 3\\cdot3^k + ... + n\\cdot n^k$\n",
    "\n",
    "Then al-Haytham has a stroke of genius with this step:\n",
    "\n",
    "$S_{k+1}(n) = (n + 1 - n)\\cdot1^k + (n + 1 - (n - 1))\\cdot2^k + (n + 1 - (n - 2))\\cdot3^k + ... + ((n + 1) - 1)\\cdot n^k$\n",
    "\n",
    "Now every term has $n + 1$ in it, so we can separate all those out and get:\n",
    "\n",
    "$S_{k+1}(n) = (n + 1)(1^k + 2^k + 3^k + ... + n^k) - [n \\cdot 1^k + (n - 1)\\cdot 2^k + (n - 2)\\cdot 3^k + \\cdots + 1 \\cdot n^k]$\n",
    "\n",
    "It may not look like much has been accomplished, but something has because the coefficients of the terms\n",
    "in the square brackets *are now descending*, and therefore what is in the square brackets can be rewritten:\n",
    "\n",
    "$\\eqalign{n \\cdot 1^k + (n - 1)\\cdot 2^k + (n - 2)\\cdot 3^k + \\cdots + 1 \\cdot n^k] = \\cr\n",
    "&1^k + \\cr\n",
    "&1^k + 2^k + \\cr\n",
    "&1^k + 2^k + 3^k + \\cr\n",
    "&\\cdots +\\cr\n",
    "&1^k + 2^k + \\cdots + n^k \\cr}$\n",
    "\n",
    "Let us summarize what has been shown:\n",
    "\n",
    "$S_{k+1}(n)=(n+1)S_k(n)-[S_k(1)+S_k(2)+S_k(3)+\\cdots+S_k(n)]$\n",
    "\n",
    "### Section 1.1.5 &mdash; Recovering the Formulae of Pythagoras, Archimedes, and al-Karaji\n",
    "\n",
    "Let's try the formula for $k = 1$:\n",
    "\n",
    "$S_1(n)=(n+1)S_0(n)-[S_0(1)+S_0(2)+\\cdots+S_0(n)]$\n",
    "\n",
    "However, $S_0(m)$ is just $m$ (why!?), so this says:\n",
    "\n",
    "$S_1(n)=(n+1)n-(1+2+\\cdots+n) = (n+1)n-S_1(n)$\n",
    "\n",
    "Rearranging a little gives us the result that the Pythagoreans knew:\n",
    "\n",
    "$S_1(n)={n(n+1)\\over2}$\n",
    "\n",
    "On to $S_2(n)$:\n",
    "\n",
    "$S_2(n)=(n+1)S_1(n)-[S_1(1)+S_1(2)+S_1(3)+\\cdots+S_1(n)] = (n+1)S_1(n)-[1+3+6+\\cdots+{n(n+1)\\over 2})]$\n",
    "\n",
    "Or:\n",
    "\n",
    "$S_2(n)= (n+1)S_1(n)-{1\\over2}[S_2(n)+S_1(n)]$\n",
    "\n",
    "Rearranging a little, we recover Archimedes' result:\n",
    "\n",
    "$S_2(n)={2\\over3}(n+1-{1\\over2})S_1(n)={2\\over3}(n+{1\\over2}){n(n+1)\\over2} = {n(n+1)(2n+1)\\over 6}$\n",
    "\n",
    "On to $S_3(n)$:\n",
    "\n",
    "$S_3(n)=(n+1)S_2(n)-[S_2(1)+S_2(2)+S_2(3)+\\cdots+S_2(n)] = (n+1)S_2(n)-[1+5+14+\\cdots+{n(n+1)(2n+1)\\over 6})] = (n+1)S_2(n)-[\\bigl({1\\over3}S_3(n)+{1\\over2}S_2(n)+{1\\over6}S_1(n)\\bigr]$\n",
    "\n",
    "Rearranging a little:\n",
    "\n",
    "$S_3(n)={3\\over2}[(n+{1\\over2})S_2(n)-{1\\over6}S_1(n)]={3\\over2}[(n+{1\\over2}){n(n+1)(2n+1)\\over6}-{1\\over6}{n(n+1)\\over2}]$\n",
    "\n",
    "So we have recovered al-Karaji's result:\n",
    "\n",
    "$S_3(n)={3\\over2}{{n(n+1)}\\over2}[{2(n+{1\\over2})(2n+1)\\over6}-{1\\over6}]={3\\over2}{n(n+1)\\over2}{{4n^2 + 4n}\\over6}=\\bigl({n(n+1)\\over2}\\bigr)^2$\n",
    "\n",
    "### Section 1.1.5 &mdash; Al-Haytham's New Formula for the Quartics\n",
    "\n",
    "We aren't just doing math for math's sake. Just to keep in mind where we are going, al-Haytham wanted\n",
    "to compute volumes of various shapes, and to get the volume of one elegant shape that looks a quite\n",
    "a bit like a part of a minaret, he needed $S_4(n)$. Let's try to get that:\n",
    "\n",
    "$S_4(n) = (n+1)S_3(n) - [S_3(1)+S_3(2)+\\cdots+S_3(n)] = (n+1)S_3(n)-[1+9+36+\\cdots+\\bigl({n(n+1)\\over 2}\\bigr)^2] = (n+1)S_3(n)-[\\bigl({1\\over4}S_4(n)+{1\\over2}S_3(n)+{1\\over4}S_2(n)\\bigr]$\n",
    "\n",
    "Doing the usual rearrangement, we get:\n",
    "\n",
    "$S_4(n)={4\\over5}[(n+{1\\over2})S_3(n)-{1\\over4}S_2(n)]={4\\over5}[(n+{1\\over2})\\bigl({n(n+1)\\over2}\\bigr)^2-{1\\over4}{n(n+1)(2n+1)\\over6}]$\n",
    "\n",
    "This simplifies to:\n",
    "\n",
    "$S_4(n)={1\\over5}[(n+{1\\over2})(n(n+1))^2-{n(n+1)(2n+1)\\over6}]={1\\over5}n(n+1)(2n+1)\\bigl[{1\\over2}n(n+1)-{1\\over6}\\bigr]$\n",
    "\n",
    "This is equivalent to al-Haytham's formula as given in\n",
    "[Janet Beery's 2010 article in *Convergence*](https://www.maa.org/press/periodicals/convergence/sums-of-powers-of-positive-integers):\n",
    "\n",
    "$1^4 + 2^4 + 3^4 + \\cdots + n^4 = {n^5\\over 5} + {n^4\\over 2} + {n^3\\over 3} - {n\\over 30}$\n",
    "\n",
    "There is a proof without words of al-Haytham's formula too:\n",
    "\n",
    "![Proof without words 4](https://brianhill.github.io/isaac-newton/jupyter/01_accumulation/resources/proofs_without_words_4.png)\n",
    "\n",
    "### Section 1.1.6 &mdash; Testing the Formulae with Python"
   ],
   "metadata": {
    "collapsed": false,
    "pycharm": {
     "name": "#%% md\n"
    }
   }
  },
  {
   "cell_type": "code",
   "execution_count": 8,
   "outputs": [
    {
     "data": {
      "text/plain": "385"
     },
     "execution_count": 8,
     "metadata": {},
     "output_type": "execute_result"
    }
   ],
   "source": [
    "squared_numbers = [number**2 for number in long_list]\n",
    "should_get_385 = sum(squared_numbers)\n",
    "should_get_385"
   ],
   "metadata": {
    "collapsed": false,
    "pycharm": {
     "name": "#%%\n"
    }
   }
  },
  {
   "cell_type": "code",
   "execution_count": 9,
   "outputs": [
    {
     "data": {
      "text/plain": "3025"
     },
     "execution_count": 9,
     "metadata": {},
     "output_type": "execute_result"
    }
   ],
   "source": [
    "cubed_numbers = [number**3 for number in long_list]\n",
    "should_get_3025 = sum(cubed_numbers)\n",
    "should_get_3025"
   ],
   "metadata": {
    "collapsed": false,
    "pycharm": {
     "name": "#%%\n"
    }
   }
  },
  {
   "cell_type": "markdown",
   "source": [
    "Now that you see how it goes, you test al-Haytham's formula for the quartic numbers:"
   ],
   "metadata": {
    "collapsed": false,
    "pycharm": {
     "name": "#%% md\n"
    }
   }
  },
  {
   "cell_type": "code",
   "execution_count": 10,
   "outputs": [
    {
     "data": {
      "text/plain": "0"
     },
     "execution_count": 10,
     "metadata": {},
     "output_type": "execute_result"
    }
   ],
   "source": [
    "quartic_numbers = [] # <--- you fix this to get the quartics\n",
    "should_get_25333 = sum(quartic_numbers)\n",
    "should_get_25333\n"
   ],
   "metadata": {
    "collapsed": false,
    "pycharm": {
     "name": "#%%\n"
    }
   }
  }
 ],
 "metadata": {
  "kernelspec": {
   "display_name": "Python 3",
   "language": "python",
   "name": "python3"
  },
  "language_info": {
   "codemirror_mode": {
    "name": "ipython",
    "version": 2
   },
   "file_extension": ".py",
   "mimetype": "text/x-python",
   "name": "python",
   "nbconvert_exporter": "python",
   "pygments_lexer": "ipython2",
   "version": "2.7.6"
  }
 },
 "nbformat": 4,
 "nbformat_minor": 0
}