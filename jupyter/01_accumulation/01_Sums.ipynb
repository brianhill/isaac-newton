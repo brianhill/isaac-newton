{
 "cells": [
  {
   "cell_type": "markdown",
   "source": [
    "# Chapter 1 &mdash; Accumulation\n",
    "\n",
    "This is a chapter on accumulation. The modern word for this is integration, but let's use the 17th century term.\n",
    "\n",
    "## Notebook 1.1 &mdash; Sums\n",
    "\n",
    "Accumulation usually boils down to doing sums. Sometimes the sums are of small distances and the sum is interpreted\n",
    "as a total distance. Sometimes the sums are of small areas, and the sum is interpreted as a total area. That's two\n",
    "kinds of applications for sums. It is just some motivation for why we are starting a chapter on accumulation starts\n",
    "with a Jupyter notebook on sums.\n",
    "\n",
    "### Section 1.1.1 &mdash; Lists\n",
    "\n",
    "We want to sum lists of numbers, like the list [1, 2, 3] whose sum is 6. We are going to do this in Python.\n",
    "In Python, lists are enclosed in square brackets and list elements are separated by commas."
   ],
   "metadata": {
    "collapsed": false,
    "pycharm": {
     "name": "#%% md\n"
    }
   }
  },
  {
   "cell_type": "code",
   "execution_count": 15,
   "metadata": {
    "collapsed": true,
    "pycharm": {
     "name": "#%%\n"
    }
   },
   "outputs": [
    {
     "data": {
      "text/plain": "6"
     },
     "execution_count": 15,
     "metadata": {},
     "output_type": "execute_result"
    }
   ],
   "source": [
    "short_list = [1, 2, 3]\n",
    "sum(short_list)"
   ]
  },
  {
   "cell_type": "markdown",
   "source": [
    "We are going to want to sum long lists, like the list of numbers from 1 to 10, or the list of numbers from 1 to 100,\n",
    "*without typing in all 10 or all 100 elements individually*. The entire point of using the computer is to let it take\n",
    "care of such tedium. Below is how to make long lists without typing in each element."
   ],
   "metadata": {
    "collapsed": false,
    "pycharm": {
     "name": "#%% md\n"
    }
   }
  },
  {
   "cell_type": "code",
   "execution_count": 17,
   "outputs": [
    {
     "data": {
      "text/plain": "[0, 1, 2, 3, 4, 5, 6, 7, 8, 9]"
     },
     "execution_count": 17,
     "metadata": {},
     "output_type": "execute_result"
    }
   ],
   "source": [
    "long_list = list(range(10))\n",
    "long_list"
   ],
   "metadata": {
    "collapsed": false,
    "pycharm": {
     "name": "#%%\n"
    }
   }
  },
  {
   "cell_type": "markdown",
   "source": [
    "Unfortunately, you can see we did not get quite what we wanted. We got the list [0, 1, 2, 3, 4, 5, 6, 7, 8, 9]\n",
    "instead of the list [1, 2, 3, 4, 5, 6, 7, 8, 9, 10]. That is because computers, at a deep level do the very sensible\n",
    "thing of counting from 0 (like a baby is zero years old when it is born, and does not become one until 12 months have\n",
    "past). However, in most situations, humans count from 1, so you will often find that a computer doesn't do what you\n",
    "expect until you get used to the idea that in most situations, they count from 0.\n",
    "\n",
    "To get the list we want, we do this:"
   ],
   "metadata": {
    "collapsed": false
   }
  },
  {
   "cell_type": "code",
   "execution_count": 19,
   "outputs": [
    {
     "data": {
      "text/plain": "[1, 2, 3, 4, 5, 6, 7, 8, 9, 10]"
     },
     "execution_count": 19,
     "metadata": {},
     "output_type": "execute_result"
    }
   ],
   "source": [
    "N = 10\n",
    "long_list = list(range(1, N + 1))\n",
    "long_list"
   ],
   "metadata": {
    "collapsed": false,
    "pycharm": {
     "name": "#%%\n"
    }
   }
  },
  {
   "cell_type": "markdown",
   "source": [
    "We didn't have to define the variable N. We could have just written list(range(1, 11)). However, our intention,\n",
    "that we are making a list that goes from 1 to N, is clearer. By defining N and then writing N + 1 as the second\n",
    "argument to the range function, we have made it very explicit that we are compensating for the fact that the range\n",
    "function stops one short of its upper limit. Finish the code below to make a really long list that goes from\n",
    "1 to 100."
   ],
   "metadata": {
    "collapsed": false,
    "pycharm": {
     "name": "#%% md\n"
    }
   }
  },
  {
   "cell_type": "code",
   "execution_count": 21,
   "outputs": [
    {
     "data": {
      "text/plain": "[]"
     },
     "execution_count": 21,
     "metadata": {},
     "output_type": "execute_result"
    }
   ],
   "source": [
    "M = 100\n",
    "really_long_list = []  # <--- you need to finish this\n",
    "really_long_list"
   ],
   "metadata": {
    "collapsed": false,
    "pycharm": {
     "name": "#%%\n"
    }
   }
  },
  {
   "cell_type": "code",
   "execution_count": null,
   "outputs": [],
   "source": [],
   "metadata": {
    "collapsed": false,
    "pycharm": {
     "name": "#%%\n"
    }
   }
  }
 ],
 "metadata": {
  "kernelspec": {
   "display_name": "Python 3",
   "language": "python",
   "name": "python3"
  },
  "language_info": {
   "codemirror_mode": {
    "name": "ipython",
    "version": 2
   },
   "file_extension": ".py",
   "mimetype": "text/x-python",
   "name": "python",
   "nbconvert_exporter": "python",
   "pygments_lexer": "ipython2",
   "version": "2.7.6"
  }
 },
 "nbformat": 4,
 "nbformat_minor": 0
}