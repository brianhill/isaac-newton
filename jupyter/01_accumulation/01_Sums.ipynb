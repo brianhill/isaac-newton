{
 "cells": [
  {
   "cell_type": "markdown",
   "source": [
    "# Chapter 1 &mdash; Accumulation\n",
    "\n",
    "This is a chapter on accumulation. The modern word for this is integration, but let's use the 17th century term.\n",
    "\n",
    "## Notebook 1.1 &mdash; Sums\n",
    "\n",
    "Accumulation usually boils down to doing sums. Sometimes the sums are of small distances and the sum is interpreted\n",
    "as a total distance. Sometimes the sums are of small areas, and the sum is interpreted as a total area. That's two\n",
    "kinds of applications for sums. It is just some motivation for why we are starting a chapter on accumulation starts\n",
    "with a Jupyter notebook on sums.\n",
    "\n",
    "### Section 1.1.1 &mdash; Lists and Ranges\n",
    "\n",
    "We want to sum lists of numbers, like the list [1, 2, 3] whose sum is 6. We are going to do this in Python.\n",
    "In Python, lists are enclosed in square brackets and list elements are separated by commas."
   ],
   "metadata": {
    "collapsed": false,
    "pycharm": {
     "name": "#%% md\n"
    }
   }
  },
  {
   "cell_type": "code",
   "execution_count": 2,
   "metadata": {
    "collapsed": true,
    "pycharm": {
     "name": "#%%\n"
    }
   },
   "outputs": [
    {
     "data": {
      "text/plain": "6"
     },
     "execution_count": 2,
     "metadata": {},
     "output_type": "execute_result"
    }
   ],
   "source": [
    "from typing import List, Any\n",
    "\n",
    "short_list = [1, 2, 3]"
   ]
  },
  {
   "cell_type": "markdown",
   "source": [
    "We are going to want to work with longer lists, like the list of numbers from 1 to 10, or the list of numbers from 1 to 100,\n",
    "*without typing in all 10 or all 100 elements individually*. The entire point of using the computer is to let it take\n",
    "care of such tedium. Below is how to make long lists without typing in each element."
   ],
   "metadata": {
    "collapsed": false,
    "pycharm": {
     "name": "#%% md\n"
    }
   }
  },
  {
   "cell_type": "code",
   "execution_count": 17,
   "outputs": [
    {
     "data": {
      "text/plain": "[0, 1, 2, 3, 4, 5, 6, 7, 8, 9]"
     },
     "execution_count": 17,
     "metadata": {},
     "output_type": "execute_result"
    }
   ],
   "source": [
    "long_list = list(range(10))\n",
    "long_list"
   ],
   "metadata": {
    "collapsed": false,
    "pycharm": {
     "name": "#%%\n"
    }
   }
  },
  {
   "cell_type": "markdown",
   "source": [
    "Unfortunately, you can see we did not get quite what we wanted. We got the list [0, 1, 2, 3, 4, 5, 6, 7, 8, 9]\n",
    "instead of the list [1, 2, 3, 4, 5, 6, 7, 8, 9, 10]. Acck!\n",
    "\n",
    "We didn't get what we wanted because computers, at a deep level, do the very sensible\n",
    "thing of counting from zero instead of from one.\n",
    "\n",
    "Humans sometimes follow the convention of counting from zero. For example,\n",
    "a baby is zero years old when it is born, and does not become one year old until 12 months have\n",
    "passed. However, in most situations, humans count from 1. Because of the differing\n",
    "conventions, you will often find that a computer doesn't do what you\n",
    "expect until you get used to its counting conventions.\n",
    "\n",
    "To get the list we wanted want, we could change the range(10) expression to range(1, 11). Then the\n",
    "list will start with 1 and finish with 10. However, we can make our intention clearer by defining\n",
    "a variable N to be 10."
   ],
   "metadata": {
    "collapsed": false
   }
  },
  {
   "cell_type": "code",
   "execution_count": 4,
   "outputs": [
    {
     "data": {
      "text/plain": "[1, 2, 3, 4, 5, 6, 7, 8, 9, 10]"
     },
     "execution_count": 4,
     "metadata": {},
     "output_type": "execute_result"
    }
   ],
   "source": [
    "N = 10\n",
    "long_list = list(range(1, N + 1))\n",
    "long_list"
   ],
   "metadata": {
    "collapsed": false,
    "pycharm": {
     "name": "#%%\n"
    }
   }
  },
  {
   "cell_type": "markdown",
   "source": [
    "By defining N and then writing `1` and `N + 1` as the first and second\n",
    "arguments to the range function, we have made it very explicit that we want the\n",
    "range function to start with `1` and stop at `N`.\n",
    "The range function always stops one step short of its upper limit.\n",
    "\n",
    "Finish the code below to make a really long list that goes from\n",
    "1 to 100. When finishing the code, use the variable `M` that I defined. Don't\n",
    "hard-code 101."
   ],
   "metadata": {
    "collapsed": false,
    "pycharm": {
     "name": "#%% md\n"
    }
   }
  },
  {
   "cell_type": "code",
   "execution_count": 10,
   "outputs": [],
   "source": [
    "M = 100\n",
    "really_long_list = []  # <--- you finish this"
   ],
   "metadata": {
    "collapsed": false,
    "pycharm": {
     "name": "#%%\n"
    }
   }
  },
  {
   "cell_type": "markdown",
   "source": [
    "### Section 1.1.2 &mdash; Sums of Lists\n",
    "\n",
    "Summing a list is easy to do in Python. There is a function for it."
   ],
   "metadata": {
    "collapsed": false,
    "pycharm": {
     "name": "#%% md\n"
    }
   }
  },
  {
   "cell_type": "code",
   "execution_count": 3,
   "outputs": [
    {
     "data": {
      "text/plain": "6"
     },
     "execution_count": 3,
     "metadata": {},
     "output_type": "execute_result"
    }
   ],
   "source": [
    "should_get_six = sum(short_list)\n",
    "should_get_six"
   ],
   "metadata": {
    "collapsed": false,
    "pycharm": {
     "name": "#%%\n"
    }
   }
  },
  {
   "cell_type": "markdown",
   "source": [
    "Now that you see how it is done, you write the code to sum long_list:"
   ],
   "metadata": {
    "collapsed": false,
    "pycharm": {
     "name": "#%% md\n"
    }
   }
  },
  {
   "cell_type": "code",
   "execution_count": 6,
   "outputs": [
    {
     "data": {
      "text/plain": "0"
     },
     "execution_count": 6,
     "metadata": {},
     "output_type": "execute_result"
    }
   ],
   "source": [
    "should_get_fifty_five = 0  # <--- you fix this to sum long_list\n",
    "should_get_fifty_five"
   ],
   "metadata": {
    "collapsed": false,
    "pycharm": {
     "name": "#%%\n"
    }
   }
  },
  {
   "cell_type": "markdown",
   "source": [
    "### Section 1.1.3 &mdash; The Formula for the Sum of the Integers\n",
    "\n",
    "The sum of really_long_list is ${100 \\cdot 101 \\over 2}=5050 $"
   ],
   "metadata": {
    "collapsed": false,
    "pycharm": {
     "name": "#%% md\n"
    }
   }
  },
  {
   "cell_type": "code",
   "execution_count": 8,
   "outputs": [
    {
     "data": {
      "text/plain": "5050"
     },
     "execution_count": 8,
     "metadata": {},
     "output_type": "execute_result"
    }
   ],
   "source": [
    "should_get_fifty_fifty = sum(really_long_list)\n",
    "should_get_fifty_fifty"
   ],
   "metadata": {
    "collapsed": false,
    "pycharm": {
     "name": "#%%\n"
    }
   }
  },
  {
   "cell_type": "markdown",
   "source": [
    "Where did I get 55 and 5050? Well the general formula is:\n",
    "\n",
    "$ 1 + 2 + 3 + ... + n = {n(n+1)\\over 2}$\n",
    "\n",
    "and I just plugged in $n=10$ to get 55 and $n=100$ to get 5050."
   ],
   "metadata": {
    "collapsed": false,
    "pycharm": {
     "name": "#%% md\n"
    }
   }
  },
  {
   "cell_type": "code",
   "execution_count": null,
   "outputs": [],
   "source": [],
   "metadata": {
    "collapsed": false,
    "pycharm": {
     "name": "#%%\n"
    }
   }
  }
 ],
 "metadata": {
  "kernelspec": {
   "display_name": "Python 3",
   "language": "python",
   "name": "python3"
  },
  "language_info": {
   "codemirror_mode": {
    "name": "ipython",
    "version": 2
   },
   "file_extension": ".py",
   "mimetype": "text/x-python",
   "name": "python",
   "nbconvert_exporter": "python",
   "pygments_lexer": "ipython2",
   "version": "2.7.6"
  }
 },
 "nbformat": 4,
 "nbformat_minor": 0
}